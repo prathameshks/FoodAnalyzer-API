{
 "cells": [
  {
   "cell_type": "code",
   "execution_count": 1,
   "metadata": {},
   "outputs": [],
   "source": [
    "import requests,json\n"
   ]
  },
  {
   "cell_type": "code",
   "execution_count": 2,
   "metadata": {},
   "outputs": [],
   "source": [
    "\n",
    "barcodes = {\n",
    "    \"Good Day\": \"890106309522\",\n",
    "    \"Balaji Wheels\": \"8906010501242\",\n",
    "    \"Haldiram Gulab Jamun\": \"8902592000975\",\n",
    "    \"Kisan Tamato Ketchup\": \"8901030902932\",\n",
    "    \"Maggie\": \"8901058851298\",\n",
    "    \"Hersheys\": \"8901071211147\",\n",
    "    \"Kisan Jam\": \"8901030831690\",\n",
    "    \"Dairy Milk\": \"7622201762476\",\n",
    "    \"Meyonese\":\"8906064658831\"\n",
    "}\n"
   ]
  },
  {
   "cell_type": "code",
   "execution_count": 4,
   "metadata": {},
   "outputs": [
    {
     "name": "stdout",
     "output_type": "stream",
     "text": [
      "Saved Good Day.json\n",
      "Saved Balaji Wheels.json\n",
      "Saved Haldiram Gulab Jamun.json\n",
      "Saved Kisan Tamato Ketchup.json\n",
      "Saved Maggie.json\n",
      "Saved Hersheys.json\n",
      "Saved Kisan Jam.json\n",
      "Saved Dairy Milk.json\n",
      "Saved Meyonese.json\n"
     ]
    }
   ],
   "source": [
    "\n",
    "for item,barcode in zip(barcodes.keys(),barcodes.values()):\n",
    "    # get health score\n",
    "    url = f\"https://india.openfoodfacts.org/api/v2/product/{barcode}.json\"\n",
    "    response = requests.get(url)\n",
    "    data = response.json()\n",
    "    \n",
    "    # save json file by item name\n",
    "    with open(f\"v2/{item}.json\", \"w\") as file:\n",
    "        json.dump(data, file)\n",
    "    print(f\"Saved {item}.json\")\n",
    "    "
   ]
  }
 ],
 "metadata": {
  "kernelspec": {
   "display_name": "Python 3",
   "language": "python",
   "name": "python3"
  },
  "language_info": {
   "codemirror_mode": {
    "name": "ipython",
    "version": 3
   },
   "file_extension": ".py",
   "mimetype": "text/x-python",
   "name": "python",
   "nbconvert_exporter": "python",
   "pygments_lexer": "ipython3",
   "version": "3.12.8"
  }
 },
 "nbformat": 4,
 "nbformat_minor": 2
}
